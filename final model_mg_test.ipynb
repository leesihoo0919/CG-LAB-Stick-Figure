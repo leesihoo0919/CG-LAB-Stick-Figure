{
 "cells": [
  {
   "cell_type": "code",
   "execution_count": 1,
   "id": "81c583a2",
   "metadata": {},
   "outputs": [],
   "source": [
    "import os\n",
    "import cv2\n",
    "from matplotlib import pyplot as plt\n",
    "import torch\n",
    "import numpy as np\n",
    "import pandas as pd\n",
    "from sklearn.metrics import r2_score\n",
    "import torch.nn as nn\n",
    "import torch.nn.functional as F\n",
    "import torch.optim as optim\n",
    "import torchvision.utils as utils\n"
   ]
  },
  {
   "cell_type": "code",
   "execution_count": 2,
   "id": "badbd969",
   "metadata": {},
   "outputs": [
    {
     "name": "stdout",
     "output_type": "stream",
     "text": [
      "cuda\n"
     ]
    }
   ],
   "source": [
    "#GPU\n",
    "\n",
    "device = torch.device('cuda' if torch.cuda.is_available() else 'cpu')\n",
    "print(device)"
   ]
  },
  {
   "cell_type": "code",
   "execution_count": 76,
   "id": "7dd80f9d",
   "metadata": {},
   "outputs": [],
   "source": [
    "\n",
    "def load_test_img(image_path, y_train=None):\n",
    "    images = []\n",
    "    for filename in os.listdir(image_path):\n",
    "        if filename.endswith(\".png\") is False:\n",
    "            continue\n",
    "        print(filename)\n",
    "        img = cv2.imread(os.path.join(image_path,filename), cv2.IMREAD_GRAYSCALE)\n",
    "        if img is not None:\n",
    "            _, binary_image = cv2.threshold(img, 127, 255, cv2.THRESH_BINARY)\n",
    "            binary_image = binary_image.astype(np.uint8)  # 이미지 형식 변환\n",
    "            distance_transform = cv2.distanceTransform(binary_image, cv2.DIST_L2, 5)\n",
    "            img = cv2.resize(distance_transform, (32, 32)) # 이미지 크기 조정\n",
    "            img = img.astype(np.float32) / 255.0\n",
    "            images.append(img)\n",
    "    return np.array(images)\n",
    "\n"
   ]
  },
  {
   "cell_type": "code",
   "execution_count": 77,
   "id": "973f7cd5",
   "metadata": {},
   "outputs": [
    {
     "name": "stdout",
     "output_type": "stream",
     "text": [
      "flipped_sf000000.png\n",
      "sf_input.png\n"
     ]
    }
   ],
   "source": [
    "test_imgs = load_test_img(\"./flask/input_imgs\")"
   ]
  },
  {
   "cell_type": "code",
   "execution_count": 80,
   "id": "8affbd26",
   "metadata": {},
   "outputs": [
    {
     "data": {
      "image/png": "[encoded data removed]",
      "text/plain": [
       "<Figure size 640x480 with 1 Axes>"
      ]
     },
     "metadata": {},
     "output_type": "display_data"
    }
   ],
   "source": [
    "import matplotlib.pyplot as plt\n",
    "\n",
    "plt.imshow(np.array(test_imgs[0]).reshape(32, 32, -1), cmap='gray')\n",
    "plt.show()"
   ]
  },
  {
   "cell_type": "code",
   "execution_count": 58,
   "id": "edcaf584",
   "metadata": {},
   "outputs": [],
   "source": [
    "# a cnn sequential model by pytorch\n",
    "class SK_CNN(nn.Module):\n",
    "\n",
    "    def __init__(self):\n",
    "        super(SK_CNN, self).__init__()\n",
    "        self.conv1 = nn.Conv2d(1, 32, kernel_size=3, stride=1, padding=1)\n",
    "        self.pool1 = nn.MaxPool2d(kernel_size=2, stride=2)\n",
    "        self.conv2 = nn.Conv2d(32, 64, kernel_size=3, stride=1, padding=1)\n",
    "        self.pool2 = nn.MaxPool2d(kernel_size=2, stride=2)\n",
    "        self.conv3 = nn.Conv2d(64, 128, kernel_size=3, stride=1, padding=1)\n",
    "        self.fc1 = nn.Linear(128 * 8 * 8, 128)\n",
    "        self.fc2 = nn.Linear(128, 22)\n",
    "\n",
    "    def forward(self, x):\n",
    "        x = self.pool1(nn.functional.relu(self.conv1(x)))\n",
    "        x = self.pool2(nn.functional.relu(self.conv2(x)))\n",
    "        x = nn.functional.relu(self.conv3(x))\n",
    "        x = x.view(-1, 128 * 8 * 8)\n",
    "        x = nn.functional.relu(self.fc1(x))\n",
    "        x = self.fc2(x)\n",
    "        return x\n",
    "    "
   ]
  },
  {
   "cell_type": "code",
   "execution_count": 59,
   "id": "a58a9fb4",
   "metadata": {},
   "outputs": [
    {
     "data": {
      "text/plain": [
       "<All keys matched successfully>"
      ]
     },
     "execution_count": 59,
     "metadata": {},
     "output_type": "execute_result"
    }
   ],
   "source": [
    "SAVE_DIR = './model_save'\n",
    "\n",
    "model = SK_CNN()\n",
    "model.load_state_dict(torch.load(SAVE_DIR + '/trained_model.pt'))"
   ]
  },
  {
   "cell_type": "code",
   "execution_count": 82,
   "id": "1c091916",
   "metadata": {},
   "outputs": [
    {
     "ename": "ValueError",
     "evalue": "axes don't match array",
     "output_type": "error",
     "traceback": [
      "\u001b[1;31m---------------------------------------------------------------------------\u001b[0m",
      "\u001b[1;31mValueError\u001b[0m                                Traceback (most recent call last)",
      "Cell \u001b[1;32mIn[82], line 7\u001b[0m\n\u001b[0;32m      3\u001b[0m X_ex_image \u001b[39m=\u001b[39m cv2\u001b[39m.\u001b[39mimread(\u001b[39m\"\u001b[39m\u001b[39m./flask/input_imgs/flipped_sf000000.png\u001b[39m\u001b[39m\"\u001b[39m)\n\u001b[0;32m      5\u001b[0m \u001b[39m# 각 관절 위치 값 저장\u001b[39;00m\n\u001b[0;32m      6\u001b[0m \u001b[39m# data=predictions[0]\u001b[39;00m\n\u001b[1;32m----> 7\u001b[0m data\u001b[39m=\u001b[39mmodel(torch\u001b[39m.\u001b[39mtensor(x_ex_preprocessed\u001b[39m.\u001b[39;49mtranspose(\u001b[39m2\u001b[39;49m,\u001b[39m3\u001b[39;49m)))[\u001b[39m0\u001b[39m]\u001b[39m.\u001b[39mdetach()\u001b[39m.\u001b[39mnumpy()\n\u001b[0;32m      8\u001b[0m data \u001b[39m=\u001b[39m data\u001b[39m*\u001b[39m\u001b[39m320\u001b[39m\n\u001b[0;32m      9\u001b[0m \u001b[39mprint\u001b[39m(data)\n",
      "\u001b[1;31mValueError\u001b[0m: axes don't match array"
     ]
    }
   ],
   "source": [
    "\n",
    "\n",
    "x_ex_preprocessed = test_imgs.reshape(-1, 1, 32, 32)/255.0\n",
    "# transpose \n",
    "x_ex_preprocessed = x_ex_preprocessed.transpose(0, 1, 3, 2)\n",
    "\n",
    "# X_ex_image = cv2.imread(\"./flask/input_imgs/sf_input.png\")\n",
    "X_ex_image = cv2.imread(\"./flask/input_imgs/flipped_sf000000.png\")\n",
    "\n",
    "# 각 관절 위치 값 저장\n",
    "# data=predictions[0]\n",
    "data=model(torch.tensor(x_ex_preprocessed))[0].detach().numpy()\n",
    "data = data*320\n",
    "print(data)\n",
    "c1_x = int(round(data[0]))           \n",
    "c1_y = int(round(data[1]))            \n",
    "c2_x = int(round(data[2]))             \n",
    "c2_y = int(round(data[3]))             \n",
    "c3_x = int(round(data[4]))             \n",
    "c3_y = int(round(data[5]))             \n",
    "le_x = int(round(data[6]))             \n",
    "le_y = int(round(data[7]))            \n",
    "lh_x = int(round(data[8]))             \n",
    "lh_y = int(round(data[9]))             \n",
    "re_x = int(round(data[10]))             \n",
    "re_y = int(round(data[11]))             \n",
    "rh_x = int(round(data[12]))             \n",
    "rh_y = int(round(data[13]))             \n",
    "lk_x = int(round(data[14]))             \n",
    "lk_y = int(round(data[15]))              \n",
    "lf_x = int(round(data[16]))             \n",
    "lf_y = int(round(data[17]))             \n",
    "rk_x = int(round(data[18]))             \n",
    "rk_y = int(round(data[19]))             \n",
    "rf_x = int(round(data[20]))             \n",
    "rf_y = int(round(data[21]))  \n",
    "\n",
    "\n",
    "\n",
    "cv2.circle(X_ex_image,(c1_x,c1_y), radius=5, color=(0,0,255), thickness=-1)  #빨\n",
    "cv2.circle(X_ex_image,(c2_x,c2_y), radius=5, color=(0,94,255), thickness=-1)  #주\n",
    "cv2.circle(X_ex_image,(c3_x,c3_y), radius=5, color=(0,228,255), thickness=-1) #노\n",
    "cv2.circle(X_ex_image,(le_x,le_y), radius=5, color=(0,255,0), thickness=-1)  #초\n",
    "cv2.circle(X_ex_image,(lh_x,lh_y), radius=5, color=(255,0,0), thickness=-1)  #파\n",
    "cv2.circle(X_ex_image,(re_x,re_y), radius=5, color=(255,0,95), thickness=-1)\n",
    "cv2.circle(X_ex_image,(rh_x,rh_y), radius=5, color=(128,0,128), thickness=-1)\n",
    "cv2.circle(X_ex_image,(lk_x,lk_y), radius=5, color=(255,0,255), thickness=-1)\n",
    "cv2.circle(X_ex_image,(lf_x,lf_y), radius=5, color=(128,128,128), thickness=-1)\n",
    "cv2.circle(X_ex_image,(rk_x,rk_y), radius=5, color=(0,128,128), thickness=-1)\n",
    "cv2.circle(X_ex_image,(rf_x,rf_y), radius=5, color=(128,128,0), thickness=-1)\n",
    "\n",
    "\n",
    "# 각 연결을 나타내는 튜플 리스트\n",
    "connections = [(c1_x, c1_y, c2_x, c2_y),\n",
    "               (c2_x, c2_y, c3_x, c3_y),\n",
    "               (c2_x, c2_y, le_x, le_y),\n",
    "               (c2_x, c2_y, re_x, re_y),\n",
    "               (le_x, le_y, lh_x, lh_y),\n",
    "               (re_x, re_y, rh_x, rh_y),\n",
    "               (c1_x, c1_y, lk_x, lk_y),\n",
    "               (c1_x, c1_y, rk_x, rk_y),\n",
    "               (lk_x, lk_y, lf_x, lf_y),\n",
    "               (rk_x, rk_y, rf_x, rf_y)]\n",
    "\n",
    "# 주황색 RGB 값\n",
    "orange = (255, 165, 0)\n",
    "\n",
    "# 각 연결에 대해 선을 그립니다\n",
    "for conn in connections:\n",
    "    cv2.line(X_ex_image, (conn[0], conn[1]), (conn[2], conn[3]), orange, thickness=2)\n",
    "\n",
    "# 색상 공간을 RGB로 변환하고 이미지를 출력합니다\n",
    "# img = cv2.cvtColor(X_ex_image, cv2.COLOR_BGR2RGB)\n",
    "# plt.imshow(img)\n",
    "plt.imshow(X_ex_image)\n",
    "plt.show()\n",
    "\n"
   ]
  },
  {
   "cell_type": "code",
   "execution_count": null,
   "id": "ded71e87",
   "metadata": {},
   "outputs": [],
   "source": []
  }
 ],
 "metadata": {
  "kernelspec": {
   "display_name": "Python 3 (ipykernel)",
   "language": "python",
   "name": "python3"
  },
  "language_info": {
   "codemirror_mode": {
    "name": "ipython",
    "version": 3
   },
   "file_extension": ".py",
   "mimetype": "text/x-python",
   "name": "python",
   "nbconvert_exporter": "python",
   "pygments_lexer": "ipython3",
   "version": "3.10.10"
  }
 },
 "nbformat": 4,
 "nbformat_minor": 5
}
