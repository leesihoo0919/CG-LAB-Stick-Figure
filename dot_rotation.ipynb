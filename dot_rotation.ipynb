{
 "cells": [
  {
   "cell_type": "code",
   "execution_count": 1,
   "id": "98a27e49",
   "metadata": {},
   "outputs": [],
   "source": [
    "import cv2\n",
    "import numpy as np\n",
    "import pandas as pd\n",
    "from matplotlib import pyplot as plt\n",
    "import os\n",
    "import torch\n",
    "from sklearn.metrics import r2_score\n",
    "import torch.nn as nn\n",
    "import torch.nn.functional as F\n",
    "import torch.optim as optim"
   ]
  },
  {
   "cell_type": "code",
   "execution_count": 2,
   "id": "4877d400",
   "metadata": {},
   "outputs": [
    {
     "name": "stdout",
     "output_type": "stream",
     "text": [
      "cuda\n"
     ]
    }
   ],
   "source": [
    "#GPU\n",
    "\n",
    "device = torch.device('cuda' if torch.cuda.is_available() else 'cpu')\n",
    "print(device)"
   ]
  },
  {
   "cell_type": "code",
   "execution_count": 3,
   "id": "df5047e5",
   "metadata": {},
   "outputs": [
    {
     "name": "stdout",
     "output_type": "stream",
     "text": [
      "original:  [155 172 143  85 137  73 169 118 195 150 125 124 106 163 184 221 214 270\n",
      " 132 223 109 274]\n",
      "rotated:  [130 191 130 103 125  91 106 139  82 175 151 139 172 175 100 238  70 286\n",
      " 152 244 175 296]\n"
     ]
    }
   ],
   "source": [
    "\n",
    "# CSV(목푯값) 불러오는 함수 -> 첫 번째 열(이미지 이름) 제외\n",
    "def load_csv(csv_path):\n",
    "    df = pd.read_csv(csv_path, header=None)\n",
    "    joint = df.iloc[:, 1:].to_numpy()\n",
    "    return joint\n",
    "\n",
    "#\n",
    "def load_csv_first_col(csv_path):\n",
    "    df = pd.read_csv(csv_path, header=None)\n",
    "    joint = df.iloc[:, 0:1].to_numpy().flatten()\n",
    "    return joint\n",
    "\n",
    "y_train = load_csv(\"./joint_train.csv\")\n",
    "\n",
    "print('original: ',y_train[0][:])\n",
    "\n",
    "for i in range(len(y_train)):\n",
    "    if y_train[i][6] > y_train[i][10]:\n",
    "        for j in range(6,10):\n",
    "            tmp = y_train[i][j]\n",
    "            y_train[i][j] = y_train[i][j+4]\n",
    "            y_train[i][j+4] = tmp\n",
    "\n",
    "    if y_train[i][14] > y_train[i][18]:\n",
    "        for j in range(14,18):\n",
    "            tmp = y_train[i][j]\n",
    "            y_train[i][j] = y_train[i][j+4]\n",
    "            y_train[i][j+4] = tmp\n",
    "            \n",
    "def rotate_points(points):\n",
    "    rotated_points = np.zeros_like(points)  # 회전된 좌표 저장할 배열\n",
    "\n",
    "    # 각 행별로 회전 적용\n",
    "    for i in range(points.shape[0]):\n",
    "        x1, y1, x2, y2 = points[i, 0:4]  # c1, c2 좌표 추출\n",
    "        dx = x2 - x1  # c1, c2 x 좌표 차이 계산\n",
    "\n",
    "        # 회전 각도 계산\n",
    "        if dx != 0:\n",
    "            angle = np.arctan(dx / (y2 - y1))  # 각도 계산\n",
    "        else:\n",
    "            angle = 0\n",
    "\n",
    "        # 회전 변환 행렬 생성\n",
    "        rotation_matrix = np.array([[np.cos(angle), -np.sin(angle)],\n",
    "                                    [np.sin(angle), np.cos(angle)]])\n",
    "\n",
    "        # 회전 적용\n",
    "        rotated_points[i, :] = np.dot(rotation_matrix, points[i, :].reshape(-1, 2).T).T.flatten()\n",
    "\n",
    "    return rotated_points\n",
    "\n",
    "\n",
    "rotated_y_train = rotate_points(y_train)\n",
    "\n",
    "\n",
    "print('rotated: ', rotated_y_train[0][:])"
   ]
  },
  {
   "cell_type": "code",
   "execution_count": 4,
   "id": "ff627323",
   "metadata": {},
   "outputs": [
    {
     "data": {
      "image/png": "[encoded data removed]",
      "text/plain": [
       "<Figure size 640x480 with 1 Axes>"
      ]
     },
     "metadata": {},
     "output_type": "display_data"
    }
   ],
   "source": [
    "imageFile = './image_train/sf000000.png'\n",
    "img = cv2.imread(imageFile)\n",
    "\n",
    "# data=predictions[0]\n",
    "data=rotated_y_train[0]\n",
    "\n",
    "c1_x = int(round(data[0]))           \n",
    "c1_y = int(round(data[1]))            \n",
    "c2_x = int(round(data[2]))             \n",
    "c2_y = int(round(data[3]))             \n",
    "c3_x = int(round(data[4]))             \n",
    "c3_y = int(round(data[5]))             \n",
    "le_x = int(round(data[6]))             \n",
    "le_y = int(round(data[7]))            \n",
    "lh_x = int(round(data[8]))             \n",
    "lh_y = int(round(data[9]))             \n",
    "re_x = int(round(data[10]))             \n",
    "re_y = int(round(data[11]))             \n",
    "rh_x = int(round(data[12]))             \n",
    "rh_y = int(round(data[13]))             \n",
    "lk_x = int(round(data[14]))             \n",
    "lk_y = int(round(data[15]))              \n",
    "lf_x = int(round(data[16]))             \n",
    "lf_y = int(round(data[17]))             \n",
    "rk_x = int(round(data[18]))             \n",
    "rk_y = int(round(data[19]))             \n",
    "rf_x = int(round(data[20]))             \n",
    "rf_y = int(round(data[21]))  \n",
    "\n",
    "\n",
    "\n",
    "cv2.circle(img,(c1_x,c1_y), radius=5, color=(0,0,255), thickness=-1)  #빨\n",
    "cv2.circle(img,(c2_x,c2_y), radius=5, color=(0,94,255), thickness=-1)  #주\n",
    "cv2.circle(img,(c3_x,c3_y), radius=5, color=(0,228,255), thickness=-1) #노\n",
    "cv2.circle(img,(le_x,le_y), radius=5, color=(0,255,0), thickness=-1)  #초\n",
    "cv2.circle(img,(lh_x,lh_y), radius=5, color=(255,0,0), thickness=-1)  #파\n",
    "cv2.circle(img,(re_x,re_y), radius=5, color=(255,0,95), thickness=-1)\n",
    "cv2.circle(img,(rh_x,rh_y), radius=5, color=(128,0,128), thickness=-1)\n",
    "cv2.circle(img,(lk_x,lk_y), radius=5, color=(255,0,255), thickness=-1)\n",
    "cv2.circle(img,(lf_x,lf_y), radius=5, color=(128,128,128), thickness=-1)\n",
    "cv2.circle(img,(rk_x,rk_y), radius=5, color=(0,128,128), thickness=-1)\n",
    "cv2.circle(img,(rf_x,rf_y), radius=5, color=(128,128,0), thickness=-1)\n",
    "\n",
    "\n",
    "img = cv2.cvtColor(img, cv2.COLOR_BGR2RGB)\n",
    "\n",
    "#이미지, 점 출력\n",
    "plt.imshow(img)\n",
    "plt.show()\n"
   ]
  },
  {
   "cell_type": "code",
   "execution_count": 5,
   "id": "6878c6f9",
   "metadata": {},
   "outputs": [],
   "source": [
    "# 이미지 회전"
   ]
  },
  {
   "attachments": {},
   "cell_type": "markdown",
   "id": "9db236cb",
   "metadata": {},
   "source": [
    "- 이미지도 회전 -> angle에 저장된 숫자로\n",
    "- 이미지 사이즈 줄이기 전에 회전하기(?)\n",
    "\n",
    "- 320*320 밖으로 나가는 점 해결(예외처리)\n",
    "\n"
   ]
  },
  {
   "attachments": {},
   "cell_type": "markdown",
   "id": "88d1cd06",
   "metadata": {},
   "source": [
    "------------------------------------------------\n",
    "물구나무 이미지가 애초에 많지 않아서 train data에서 학습하지 못한듯\n",
    "-> 물구나무 이미지 임의로 만들어서(데이터 증강) 학습해볼까\n",
    "발차기는 이제 잘 찾음\n",
    "\n",
    "# model_1 : 점 c1,c2 찾기\n",
    "# model_2 : 회전된 이미지 기반으로 모든 점 찾기\n",
    "\n",
    "1. 점 c1, c2만 찾는 모델(model_1) 학습\n",
    "2. model_1 으로 test data 이미지 회전\n",
    "3. train data 이미지 회전\n",
    "4. 회전된 train data 이미지로 모든 점 찾는 모델(model_2) 학습\n",
    "5. model_2 로 회전된 test data 이미지에서 모든 점 찾기\n",
    "6. 회전값 반대로 적용해서 정답 출력\n",
    " \n"
   ]
  }
 ],
 "metadata": {
  "kernelspec": {
   "display_name": "Python 3 (ipykernel)",
   "language": "python",
   "name": "python3"
  },
  "language_info": {
   "codemirror_mode": {
    "name": "ipython",
    "version": 3
   },
   "file_extension": ".py",
   "mimetype": "text/x-python",
   "name": "python",
   "nbconvert_exporter": "python",
   "pygments_lexer": "ipython3",
   "version": "3.10.10"
  }
 },
 "nbformat": 4,
 "nbformat_minor": 5
}
