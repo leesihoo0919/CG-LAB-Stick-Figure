{
 "cells": [
  {
   "cell_type": "code",
   "execution_count": 14,
   "id": "274b84ba",
   "metadata": {},
   "outputs": [],
   "source": [
    "import csv\n",
    "\n",
    "# CSV 파일 불러오기\n",
    "with open('C:\\LAB\\joint_b.csv', 'r') as file:\n",
    "    reader = csv.reader(file)\n",
    "    data = list(reader)\n",
    "\n",
    "# 1열 값 수정\n",
    "start_value = 12630\n",
    "for i, row in enumerate(data):\n",
    "    row[0] = f\"sf0{start_value}.png\"\n",
    "    start_value += 1\n",
    "\n",
    "# 수정된 데이터를 새로운 CSV 파일로 저장\n",
    "with open('C:\\LAB\\joint_c.csv', 'w', newline='') as file:\n",
    "    writer = csv.writer(file)\n",
    "    writer.writerows(data)\n"
   ]
  }
 ],
 "metadata": {
  "kernelspec": {
   "display_name": "Python 3 (ipykernel)",
   "language": "python",
   "name": "python3"
  },
  "language_info": {
   "codemirror_mode": {
    "name": "ipython",
    "version": 3
   },
   "file_extension": ".py",
   "mimetype": "text/x-python",
   "name": "python",
   "nbconvert_exporter": "python",
   "pygments_lexer": "ipython3",
   "version": "3.10.10"
  }
 },
 "nbformat": 4,
 "nbformat_minor": 5
}
