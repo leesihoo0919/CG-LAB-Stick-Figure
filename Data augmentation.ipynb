{
 "cells": [
  {
   "cell_type": "code",
   "execution_count": null,
   "id": "98a27e49",
   "metadata": {},
   "outputs": [],
   "source": [
    "from PIL import Image\n",
    "import pandas as pd\n",
    "import os\n",
    "\n",
    "def flip_coordinates_and_images(csv_file, image_directory):\n",
    "    # CSV 파일 불러오기\n",
    "    data = pd.read_csv(csv_file)\n",
    "\n",
    "    # 이미지 이름 열을 'sf023330.png', 'sf023331.png'와 같이 변경\n",
    "    image_names = [f\"sf{str(i).zfill(6)}.png\" for i in range(len(data))]\n",
    "    data.iloc[:, 0] = image_names\n",
    "\n",
    "    # 좌표값을 상하 반전하여 변환\n",
    "    flipped_data = data.copy()\n",
    "    flipped_data.iloc[:, 1::2] = 320 - flipped_data.iloc[:, 1::2]\n",
    "\n",
    "    # 변환된 데이터를 새로운 CSV 파일로 저장\n",
    "    flipped_csv_file = csv_file.replace('.csv', '_flipped.csv')\n",
    "    flipped_data.to_csv(flipped_csv_file, index=False)\n",
    "\n",
    "    print(f\"Flipped coordinates saved to: {flipped_csv_file}\")\n",
    "\n",
    "    # 이미지 파일 상하 반전하여 저장\n",
    "    for i in range(len(data)):\n",
    "        # 이미지 파일 경로 생성\n",
    "        image_path = os.path.join(image_directory, data.iloc[i, 0])\n",
    "\n",
    "        # 이미지 파일 열기\n",
    "        image = Image.open(image_path)\n",
    "\n",
    "        # 이미지 상하 반전 수행\n",
    "        flipped_image = image.transpose(Image.FLIP_TOP_BOTTOM)\n",
    "\n",
    "        # 반전된 이미지 파일명 생성\n",
    "        flipped_image_path = os.path.join(image_directory, f\"flipped_{data.iloc[i, 0]}\")\n",
    "\n",
    "        # 반전된 이미지 파일 저장\n",
    "        flipped_image.save(flipped_image_path)\n",
    "\n",
    "        print(f\"Flipped image saved: {flipped_image_path}\")\n",
    "\n",
    "# CSV 파일 경로 설정\n",
    "csv_file_path = './joint_all.csv'\n",
    "\n",
    "# 이미지 파일이 저장된 디렉토리 경로 설정\n",
    "image_directory = './sf/'\n",
    "\n",
    "# 좌표값과 이미지 이름 상하 반전 및 이미지 파일 상하 반전 수행\n",
    "flip_coordinates_and_images(csv_file_path, image_directory)\n"
   ]
  },
  {
   "cell_type": "code",
   "execution_count": 7,
   "id": "cde2b2b0",
   "metadata": {},
   "outputs": [
    {
     "name": "stdout",
     "output_type": "stream",
     "text": [
      "Flipped coordinates saved to: ./joint_all_flipped.csv\n"
     ]
    }
   ],
   "source": [
    "import pandas as pd\n",
    "\n",
    "def flip_csv_coordinates(csv_file):\n",
    "    # CSV 파일 불러오기\n",
    "    data = pd.read_csv(csv_file)\n",
    "\n",
    "    # 좌표값을 상하 반전하여 변환\n",
    "    flipped_data = data.copy()\n",
    "    flipped_data.iloc[:, 2::2] = 320 - flipped_data.iloc[:, 2::2]\n",
    "\n",
    "    # 변환된 데이터를 새로운 CSV 파일로 저장\n",
    "    flipped_csv_file = csv_file.replace('.csv', '_flipped.csv')\n",
    "    flipped_data.to_csv(flipped_csv_file, index=False)\n",
    "\n",
    "    print(f\"Flipped coordinates saved to: {flipped_csv_file}\")\n",
    "\n",
    "# CSV 파일 경로 설정\n",
    "csv_file_path = './joint_all.csv'\n",
    "\n",
    "# 좌표값 상하 반전 수행\n",
    "flip_csv_coordinates(csv_file_path)\n"
   ]
  }
 ],
 "metadata": {
  "kernelspec": {
   "display_name": "Python 3 (ipykernel)",
   "language": "python",
   "name": "python3"
  },
  "language_info": {
   "codemirror_mode": {
    "name": "ipython",
    "version": 3
   },
   "file_extension": ".py",
   "mimetype": "text/x-python",
   "name": "python",
   "nbconvert_exporter": "python",
   "pygments_lexer": "ipython3",
   "version": "3.10.10"
  }
 },
 "nbformat": 4,
 "nbformat_minor": 5
}
